{
 "cells": [
  {
   "cell_type": "code",
   "execution_count": 2,
   "id": "d143c5ce-53f0-49d6-8e68-761aea51ad5e",
   "metadata": {},
   "outputs": [],
   "source": [
    "import pandas as pd\n",
    "import matplotlib.pyplot as plt\n",
    "import numpy as np\n",
    "import os  \n",
    "from matplotlib.ticker import PercentFormatter\n",
    "from scipy.optimize import curve_fit\n",
    "\n",
    "\n",
    "# plot cpu, gpu power pattern for GPGPU apps\n",
    "def plot_power_CPU_GPU(cpu_filename, gpu_filename, benchmark):\n",
    "    # Load the CSV files into DataFrames\n",
    "    cpu_data = pd.read_csv(cpu_filename)\n",
    "    gpu_data = pd.read_csv(gpu_filename)\n",
    "\n",
    "    # Plot the data\n",
    "    plt.figure(figsize=(4, 3))\n",
    "    plt.plot(cpu_data['Time (s)'], cpu_data['Package Power (W)'], label='RAPL Package Power', color='blue')\n",
    "    plt.plot(gpu_data['Time (s)'], gpu_data['GPU 0 Power (W)'], label='GPU Power', color='red')\n",
    "    plt.xlabel('Time (s)')\n",
    "    plt.ylabel('Power (W)')\n",
    "    plt.title(f'Power Consumption ({benchmark})', pad=40)\n",
    "    # Position the legend outside the plot\n",
    "    plt.legend(loc='upper center', bbox_to_anchor=(0.5, 1.15), ncol=3)\n",
    "    plt.grid(True, axis=\"y\", alpha=0.5)\n",
    "    \n",
    "    # Make sure the ./fig directory exists, if not, create it\n",
    "    os.makedirs('./fig', exist_ok=True)\n",
    "    # Save the figure\n",
    "    plt.savefig(f'./fig/power_cpu_gpu_{benchmark}.jpg', bbox_inches='tight')\n",
    "    plt.show()\n",
    "\n",
    "\n",
    "def plot_power_CPU(cpu_filename, benchmark):\n",
    "    # Load the CSV file into a DataFrame\n",
    "    cpu_data = pd.read_csv(cpu_filename)\n",
    "\n",
    "    # Filter the data to plot every 1 second (assuming data points every 0.1 seconds)\n",
    "    filtered_cpu_data = cpu_data.iloc[::1]  # Select every 10th row\n",
    "\n",
    "    # Plot the data\n",
    "    plt.figure(figsize=(6, 4))\n",
    "    plt.plot(filtered_cpu_data['Time (s)'], filtered_cpu_data['Package Power (W)'],\n",
    "             label='RAPL Package Power', color='blue')\n",
    "    plt.xlabel('Time (s)')\n",
    "    plt.ylabel('Power (W)')\n",
    "    plt.title(f'Power Consumption ({benchmark})', pad=40)\n",
    "    \n",
    "    # Position the legend outside the plot\n",
    "    plt.legend(loc='upper center', bbox_to_anchor=(0.5, 1.15), ncol=3)\n",
    "    plt.grid(True, axis=\"y\", alpha=0.5)\n",
    "    \n",
    "    # # Save the figure in the ./fig directory\n",
    "    # os.makedirs('./fig', exist_ok=True)\n",
    "    # plt.savefig(f'./fig/power_cpu_{benchmark}.jpg', bbox_inches='tight')\n",
    "    \n",
    "    # Display the plot\n",
    "    plt.show()\n"
   ]
  },
  {
   "cell_type": "code",
   "execution_count": 3,
   "id": "2c589fbb-fced-4e9d-9bd2-045e4068fb6e",
   "metadata": {},
   "outputs": [],
   "source": [
    "resnet50_cpu = \"./resnet50/resnet50_power_cpu.csv\" \n",
    "resnet50_gpu = \"./resnet50/resnet50_power_gpu.csv\" "
   ]
  },
  {
   "cell_type": "code",
   "execution_count": null,
   "id": "3f026cbd-f9f8-4120-a7ef-b31a5eeb91dc",
   "metadata": {},
   "outputs": [],
   "source": []
  },
  {
   "cell_type": "code",
   "execution_count": null,
   "id": "df762c8e-5857-4d22-8643-56c5edd3d60e",
   "metadata": {},
   "outputs": [],
   "source": []
  }
 ],
 "metadata": {
  "kernelspec": {
   "display_name": "Python 3 (ipykernel)",
   "language": "python",
   "name": "python3"
  },
  "language_info": {
   "codemirror_mode": {
    "name": "ipython",
    "version": 3
   },
   "file_extension": ".py",
   "mimetype": "text/x-python",
   "name": "python",
   "nbconvert_exporter": "python",
   "pygments_lexer": "ipython3",
   "version": "3.10.12"
  }
 },
 "nbformat": 4,
 "nbformat_minor": 5
}

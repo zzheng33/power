{
 "cells": [
  {
   "cell_type": "code",
   "execution_count": null,
   "id": "aea96e3f-dbab-42e1-ac71-bde583a70483",
   "metadata": {},
   "outputs": [],
   "source": [
    "import pandas as pd\n",
    "import matplotlib.pyplot as plt\n",
    "\n",
    "# Assuming we have the file named \"cpu_frequencies.csv\"\n",
    "file_path = './cpu_frequencies.csv'\n",
    "\n",
    "# Load the CSV file into a DataFrame\n",
    "df = pd.read_csv(file_path)\n",
    "\n",
    "# Drop the 'Time' column as it's not needed for the computation\n",
    "df = df.drop(columns=['Time'])\n",
    "\n",
    "# Function to calculate the average of values greater than 0.8 in each row\n",
    "def average_greater_than_08(row):\n",
    "    filtered_values = row[row > 0.8]\n",
    "    if len(filtered_values) > 0:\n",
    "        return filtered_values.mean()\n",
    "    else:\n",
    "        return 0  # If no values > 0.8, return 0\n",
    "\n",
    "# Apply the function to each row\n",
    "df['Average > 0.8'] = df.apply(average_greater_than_08, axis=1)\n",
    "\n",
    "# Plot the average values\n",
    "plt.figure(figsize=(10, 6))\n",
    "plt.plot(df.index, df['Average > 0.8'], marker='o', linestyle='-', color='b')\n",
    "plt.title('Average CPU Core Frequency > 0.8 GHz Over Time')\n",
    "plt.xlabel('Row Index')\n",
    "plt.ylabel('Average Frequency (GHz)')\n",
    "plt.grid(True)\n",
    "plt.show()\n"
   ]
  }
 ],
 "metadata": {
  "kernelspec": {
   "display_name": "Python 3 (ipykernel)",
   "language": "python",
   "name": "python3"
  },
  "language_info": {
   "codemirror_mode": {
    "name": "ipython",
    "version": 3
   },
   "file_extension": ".py",
   "mimetype": "text/x-python",
   "name": "python",
   "nbconvert_exporter": "python",
   "pygments_lexer": "ipython3",
   "version": "3.10.12"
  }
 },
 "nbformat": 4,
 "nbformat_minor": 5
}

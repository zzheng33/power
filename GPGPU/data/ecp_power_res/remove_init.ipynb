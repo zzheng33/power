{
 "cells": [
  {
   "cell_type": "code",
   "execution_count": 3,
   "id": "f51c8909-d430-48f4-82dd-3bdf4e7e6753",
   "metadata": {},
   "outputs": [],
   "source": [
    "import pandas as pd\n",
    "\n",
    "def remove_init(path):\n",
    "    # Load your GPU and CPU CSV files into dataframes\n",
    "    gpu_df = pd.read_csv(path +'bert_large_power_gpu.csv')\n",
    "    cpu_df = pd.read_csv(path + \"bert_large_power_cpu.csv\")\n",
    "    \n",
    "    # Step 1: GPU - Find the first row where GPU power > 100\n",
    "    gpu_threshold_row = gpu_df[gpu_df['GPU 0 Power (W)'] > 100].iloc[0]\n",
    "    t0 = gpu_threshold_row['Time (s)']\n",
    "    \n",
    "    # Delete rows above t0\n",
    "    gpu_df = gpu_df[gpu_df['Time (s)'] >= t0]\n",
    "    \n",
    "    # Adjust Time (s) in GPU file\n",
    "    gpu_df['Time (s)'] = gpu_df['Time (s)'] - t0\n",
    "    \n",
    "    # Step 2: CPU - Find the first row where Time (s) >= t0\n",
    "    cpu_threshold_row = cpu_df[cpu_df['Time (s)'] >= t0].iloc[0]\n",
    "    r1_time = cpu_threshold_row['Time (s)']\n",
    "    \n",
    "    # Delete rows above r1\n",
    "    cpu_df = cpu_df[cpu_df['Time (s)'] >= r1_time]\n",
    "    \n",
    "    # Adjust Time (s) in CPU file\n",
    "    cpu_df['Time (s)'] = cpu_df['Time (s)'] - r1_time\n",
    "    \n",
    "    # Save the modified files if needed\n",
    "    gpu_df.to_csv(path +'bert_large2_power_gpu.csv', index=False)\n",
    "    cpu_df.to_csv(path + \"bert_large2_power_cpu.csv\", index=False)\n"
   ]
  },
  {
   "cell_type": "code",
   "execution_count": 4,
   "id": "b67e6824-6d21-4f7e-b30a-c230ddc76d20",
   "metadata": {},
   "outputs": [],
   "source": [
    "remove_init(\"./dynamic_uncore/\" )\n",
    "remove_init(\"./max_uncore/\" )\n",
    "remove_init(\"./min_uncore/\" )"
   ]
  },
  {
   "cell_type": "code",
   "execution_count": null,
   "id": "d53a8fb0-b0b3-40fd-9cac-0bc74ebd3ef9",
   "metadata": {},
   "outputs": [],
   "source": []
  }
 ],
 "metadata": {
  "kernelspec": {
   "display_name": "Python 3 (ipykernel)",
   "language": "python",
   "name": "python3"
  },
  "language_info": {
   "codemirror_mode": {
    "name": "ipython",
    "version": 3
   },
   "file_extension": ".py",
   "mimetype": "text/x-python",
   "name": "python",
   "nbconvert_exporter": "python",
   "pygments_lexer": "ipython3",
   "version": "3.10.12"
  }
 },
 "nbformat": 4,
 "nbformat_minor": 5
}

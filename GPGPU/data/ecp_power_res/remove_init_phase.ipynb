{
 "cells": [
  {
   "cell_type": "code",
   "execution_count": 7,
   "id": "e4825715-a001-46e0-bda2-6a8981633cb1",
   "metadata": {},
   "outputs": [],
   "source": [
    "import pandas as pd"
   ]
  },
  {
   "cell_type": "code",
   "execution_count": 3,
   "id": "f51c8909-d430-48f4-82dd-3bdf4e7e6753",
   "metadata": {},
   "outputs": [],
   "source": [
    "\n",
    "def remove_init(path):\n",
    "    # Load your GPU and CPU CSV files into dataframes\n",
    "    gpu_df = pd.read_csv(path + 'bert_large_power_gpu.csv')\n",
    "    cpu_df = pd.read_csv(path + \"bert_large_power_cpu.csv\")\n",
    "    \n",
    "    # Step 1: GPU - Find the first set of 5 continuous rows where GPU power > 150\n",
    "    for i in range(len(gpu_df) - 4):\n",
    "        # Check if 5 continuous rows have GPU power greater than 150\n",
    "        if all(gpu_df['GPU 0 Power (W)'].iloc[i:i+7] > 140):\n",
    "            gpu_threshold_row = gpu_df.iloc[i]\n",
    "            t0 = gpu_threshold_row['Time (s)']\n",
    "            break\n",
    "    \n",
    "    # Delete rows above t0\n",
    "    gpu_df = gpu_df[gpu_df['Time (s)'] >= t0]\n",
    "    \n",
    "    # Adjust Time (s) in GPU file\n",
    "    gpu_df['Time (s)'] = gpu_df['Time (s)'] - t0\n",
    "    \n",
    "    # Step 2: CPU - Find the first row where Time (s) >= t0\n",
    "    cpu_threshold_row = cpu_df[cpu_df['Time (s)'] >= t0].iloc[0]\n",
    "    r1_time = cpu_threshold_row['Time (s)']\n",
    "    \n",
    "    # Delete rows above r1\n",
    "    cpu_df = cpu_df[cpu_df['Time (s)'] >= r1_time]\n",
    "    \n",
    "    # Adjust Time (s) in CPU file\n",
    "    cpu_df['Time (s)'] = cpu_df['Time (s)'] - r1_time\n",
    "    \n",
    "    # Save the modified files if needed\n",
    "    gpu_df.to_csv(path + 'bert_large2_power_gpu.csv', index=False)\n",
    "    cpu_df.to_csv(path + \"bert_large2_power_cpu.csv\", index=False)\n"
   ]
  },
  {
   "cell_type": "code",
   "execution_count": 4,
   "id": "b67e6824-6d21-4f7e-b30a-c230ddc76d20",
   "metadata": {},
   "outputs": [],
   "source": [
    "remove_init(\"./dynamic_uncore/\" )\n",
    "remove_init(\"./max_uncore/\" )\n",
    "remove_init(\"./min_uncore/\" )"
   ]
  },
  {
   "cell_type": "code",
   "execution_count": 8,
   "id": "d53a8fb0-b0b3-40fd-9cac-0bc74ebd3ef9",
   "metadata": {},
   "outputs": [],
   "source": [
    "def remove_init(path):\n",
    "    # Load your GPU and CPU CSV files into dataframes\n",
    "    gpu_df = pd.read_csv(path + 'Resnet50_power_gpu.csv')\n",
    "    cpu_df = pd.read_csv(path + \"Resnet50_power_cpu.csv\")\n",
    "    \n",
    "    # Step 1: GPU - Find the first set of 5 continuous rows where GPU power > 150\n",
    "    for i in range(len(gpu_df) - 4):\n",
    "        # Check if 5 continuous rows have GPU power greater than 150\n",
    "        if all(gpu_df['GPU 0 Power (W)'].iloc[i:i+40] > 100):\n",
    "            gpu_threshold_row = gpu_df.iloc[i]\n",
    "            t0 = gpu_threshold_row['Time (s)']\n",
    "            break\n",
    "    \n",
    "    # Delete rows above t0\n",
    "    gpu_df = gpu_df[gpu_df['Time (s)'] >= t0]\n",
    "    \n",
    "    # Adjust Time (s) in GPU file\n",
    "    gpu_df['Time (s)'] = gpu_df['Time (s)'] - t0\n",
    "    \n",
    "    # Step 2: CPU - Find the first row where Time (s) >= t0\n",
    "    cpu_threshold_row = cpu_df[cpu_df['Time (s)'] >= t0].iloc[0]\n",
    "    r1_time = cpu_threshold_row['Time (s)']\n",
    "    \n",
    "    # Delete rows above r1\n",
    "    cpu_df = cpu_df[cpu_df['Time (s)'] >= r1_time]\n",
    "    \n",
    "    # Adjust Time (s) in CPU file\n",
    "    cpu_df['Time (s)'] = cpu_df['Time (s)'] - r1_time\n",
    "    \n",
    "    # Save the modified files if needed\n",
    "    gpu_df.to_csv(path + 'Resnet50_2_power_gpu.csv', index=False)\n",
    "    cpu_df.to_csv(path + \"Resnet50_2_power_cpu.csv\", index=False)"
   ]
  },
  {
   "cell_type": "code",
   "execution_count": 9,
   "id": "5960cbae-1e52-4373-9cf8-41dd5ee9bd90",
   "metadata": {},
   "outputs": [],
   "source": [
    "remove_init(\"./dynamic_uncore/\" )\n",
    "remove_init(\"./max_uncore/\" )\n",
    "remove_init(\"./min_uncore/\" )"
   ]
  },
  {
   "cell_type": "code",
   "execution_count": null,
   "id": "f02df26b-b1a7-45da-83e1-227aec3dd6fb",
   "metadata": {},
   "outputs": [],
   "source": []
  }
 ],
 "metadata": {
  "kernelspec": {
   "display_name": "Python 3 (ipykernel)",
   "language": "python",
   "name": "python3"
  },
  "language_info": {
   "codemirror_mode": {
    "name": "ipython",
    "version": 3
   },
   "file_extension": ".py",
   "mimetype": "text/x-python",
   "name": "python",
   "nbconvert_exporter": "python",
   "pygments_lexer": "ipython3",
   "version": "3.10.12"
  }
 },
 "nbformat": 4,
 "nbformat_minor": 5
}

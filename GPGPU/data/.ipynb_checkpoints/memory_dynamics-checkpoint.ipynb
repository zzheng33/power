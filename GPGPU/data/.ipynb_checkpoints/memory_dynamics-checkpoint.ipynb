{
 "cells": [
  {
   "cell_type": "code",
   "execution_count": 1,
   "id": "396228f3-b131-47d1-83dd-433851586a84",
   "metadata": {},
   "outputs": [],
   "source": [
    "import pandas as pd\n",
    "import matplotlib.pyplot as plt\n",
    "import numpy as np"
   ]
  },
  {
   "cell_type": "code",
   "execution_count": null,
   "id": "171a57e4-24bf-40e4-b79d-e657066ab51e",
   "metadata": {},
   "outputs": [],
   "source": [
    "# Load the CSV file containing memory throughput data\n",
    "file_path = \"./ecp_power_res/mem_throughput/max_uncore/UNet.csv'\n",
    "data = pd.read_csv(file_path)\n",
    "\n",
    "# Ensure the relevant columns have no leading/trailing spaces\n",
    "data.columns = data.columns.str.strip()\n",
    "\n",
    "# Calculate the first derivative of total memory throughput with respect to time\n",
    "# Assuming 'Time Elapsed (s)' and 'total(MB/s)' are the relevant columns\n",
    "time = data['Time Elapsed (s)']\n",
    "total_throughput = data['total(MB/s)']\n",
    "\n",
    "# Calculate the first derivative using numpy's gradient function\n",
    "# This gives an approximation of the derivative (rate of change)\n",
    "derivative = np.gradient(total_throughput, time)\n",
    "\n",
    "# Plot the derivative of total memory throughput with respect to time\n",
    "plt.figure(figsize=(10, 6))\n",
    "plt.plot(time, derivative, label='d(total throughput)/dt', color='b')\n",
    "\n",
    "# Add labels and title\n",
    "plt.xlabel('Time Elapsed (s)')\n",
    "plt.ylabel('Derivative of Total Memory Throughput (MB/s²)')\n",
    "plt.title('First Derivative of Total Memory Throughput Over Time')\n",
    "plt.grid(True)\n",
    "plt.legend()\n",
    "\n",
    "# Show the plot\n",
    "plt.tight_layout()\n",
    "plt.show()\n"
   ]
  }
 ],
 "metadata": {
  "kernelspec": {
   "display_name": "Python 3 (ipykernel)",
   "language": "python",
   "name": "python3"
  },
  "language_info": {
   "codemirror_mode": {
    "name": "ipython",
    "version": 3
   },
   "file_extension": ".py",
   "mimetype": "text/x-python",
   "name": "python",
   "nbconvert_exporter": "python",
   "pygments_lexer": "ipython3",
   "version": "3.10.12"
  }
 },
 "nbformat": 4,
 "nbformat_minor": 5
}
